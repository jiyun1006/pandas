{
 "cells": [
  {
   "cell_type": "code",
   "execution_count": 2,
   "metadata": {},
   "outputs": [],
   "source": [
    "import folium\n",
    "# 산악 지형 중심\n",
    "seoul_map2 = folium.Map(location = [37.55,126.98], tiles = 'Stamen Terrain', zoom_start = 12)\n",
    "\n",
    "\n",
    "# 흑백 스타일ㅈ\n",
    "seoul_map3 = folium.Map(location = [37.55,126.98], tiles='Stamen Toner', zoom_start=15)\n",
    "\n",
    "seoul_map2.save('./seoul2.html')\n",
    "seoul_map3.save('./seoul3.html')"
   ]
  }
 ],
 "metadata": {
  "kernelspec": {
   "display_name": "Python 3",
   "language": "python",
   "name": "python3"
  },
  "language_info": {
   "codemirror_mode": {
    "name": "ipython",
    "version": 3
   },
   "file_extension": ".py",
   "mimetype": "text/x-python",
   "name": "python",
   "nbconvert_exporter": "python",
   "pygments_lexer": "ipython3",
   "version": "3.7.6"
  }
 },
 "nbformat": 4,
 "nbformat_minor": 4
}
