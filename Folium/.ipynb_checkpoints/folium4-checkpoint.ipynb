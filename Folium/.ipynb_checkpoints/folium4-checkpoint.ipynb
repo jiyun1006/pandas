{
 "cells": [
  {
   "cell_type": "code",
   "execution_count": 6,
   "metadata": {},
   "outputs": [],
   "source": [
    "import pandas as pd\n",
    "import folium\n",
    "import json\n",
    "\n",
    "df = pd.read_excel('./경기도인구데이터.xlsx', index_col = '구분')\n",
    "df.columns = df.columns.map(str)\n",
    "\n",
    "geo_path = './경기도행정구역경계.json'\n",
    "\n",
    "try:\n",
    "    geo_data = json.load(open(geo_path, encoding = 'utf-8'))\n",
    "except:\n",
    "    geo_data = json.load(open(geo_path, encoding='utf-8-sig'))\n",
    "    \n",
    "    \n",
    "g_map = folium.Map(location=[37.5502,126.982], tiles = 'Stamen Terrain', zoom_start = 9)\n",
    "\n",
    "year = '2007'\n",
    "\n",
    "\n",
    "folium.Choropleth(geo_data = geo_data, data=df[year], columns = [df.index, df[year]], fill_color ='YlOrRd', fill_opacity=0.7,\n",
    "                 line_opacity=0.3, threshold_scale=[10000,100000,300000,500000,700000], key_on = 'feature.properties.name',).add_to(g_map)\n",
    "\n",
    "g_map.save('./gyonggi_population_' + year + '.html')"
   ]
  }
 ],
 "metadata": {
  "kernelspec": {
   "display_name": "Python 3",
   "language": "python",
   "name": "python3"
  },
  "language_info": {
   "codemirror_mode": {
    "name": "ipython",
    "version": 3
   },
   "file_extension": ".py",
   "mimetype": "text/x-python",
   "name": "python",
   "nbconvert_exporter": "python",
   "pygments_lexer": "ipython3",
   "version": "3.7.6"
  }
 },
 "nbformat": 4,
 "nbformat_minor": 4
}
